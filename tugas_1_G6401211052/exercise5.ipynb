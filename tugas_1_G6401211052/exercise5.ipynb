{
 "cells": [
  {
   "cell_type": "code",
   "execution_count": 1,
   "metadata": {},
   "outputs": [
    {
     "name": "stdout",
     "output_type": "stream",
     "text": [
      "True\n",
      "False\n"
     ]
    }
   ],
   "source": [
    "#5.2\n",
    "def mystery(sequence):\n",
    "    return sequence == sorted(sequence)\n",
    "#Fungsi mystery menerima satu argumen, yang berupa sebuah data list atau tuple, dimana fungsi tersebut akan mengembalikan True jika elemen-elemen dalam urutan tersebut sudah terurut dalam urutan naik (Ascending) dan False jika tidak.\n",
    "\n",
    "# Fungsi ini bekerja dengan membandingkan data masukan dengan data versi yang telah terurut menggunakan fungsi sorted. Jika data masukan sama dengan data versi terurutnya, itu berarti elemen-elemennya sudah dalam urutan membesar, dan fungsi akan mengembalikan True. Sebaliknya, jika urutan masukan tidak sama dengan versi urutannya, maka akan mengembalikan False.\n",
    "\n",
    "# Berikut adalah contoh bagaimana fungsi ini bekerja:\n",
    "sequence1 = [1, 2, 3, 4, 5]\n",
    "result1 = mystery(sequence1)  # akan mengembalikan True karena elemennya sudah terurut.\n",
    "print(result1)\n",
    "\n",
    "sequence2 = [5, 4, 3, 2, 1]\n",
    "result2 = mystery(sequence2)  # akan mengembalikan False karena elemennya tidak terurut dalam urutan naik.\n",
    "print(result2)\n",
    "#Jadi, fungsi mystery digunakan untuk memeriksa apakah urutan tertentu sudah terurut dalam urutan membesar (Ascending) atau tidak."
   ]
  },
  {
   "cell_type": "code",
   "execution_count": 12,
   "metadata": {},
   "outputs": [
    {
     "name": "stdout",
     "output_type": "stream",
     "text": [
      "[(69, 1.7526), (77, 1.9558), (54, 1.3716)]\n",
      "[(69, 1.7526), (77, 1.9558), (54, 1.3716)]\n"
     ]
    }
   ],
   "source": [
    "#5.3\n",
    "# Menggunakan list comprehension\n",
    "heights_inches = [69, 77, 54]\n",
    "heights_meters = [(x, x * 0.0254) for x in heights_inches]\n",
    "print(heights_meters)\n",
    "\n",
    "# Menggunakan fungsi map\n",
    "def inches_to_meters(inches):\n",
    "    return inches, inches * 0.0254\n",
    "\n",
    "heights_meters_map = list(map(inches_to_meters, heights_inches))\n",
    "print(heights_meters_map)"
   ]
  },
  {
   "cell_type": "code",
   "execution_count": 3,
   "metadata": {},
   "outputs": [
    {
     "name": "stdout",
     "output_type": "stream",
     "text": [
      "1\t2\t3\t\n",
      "4\t5\t6\t\n"
     ]
    }
   ],
   "source": [
    "#5.4\n",
    "# a. Membuat list 2x3\n",
    "matrix = [[0, 0, 0], [0, 0, 0]]\n",
    "\n",
    "# Mengatur nilai masing-masing elemen sesuai urutan pemrosesan\n",
    "count = 1\n",
    "for i in range(2):\n",
    "    for j in range(3):\n",
    "        matrix[i][j] = count\n",
    "        count += 1\n",
    "\n",
    "# b. Menampilkan elemen dalam format tabel\n",
    "for i in range(2):\n",
    "    for j in range(3):\n",
    "        print(f\"{matrix[i][j]}\\t\", end='')\n",
    "    print()  # Pindah ke baris berikutnya untuk membuat tampilan tabular"
   ]
  },
  {
   "cell_type": "code",
   "execution_count": 4,
   "metadata": {},
   "outputs": [
    {
     "name": "stdout",
     "output_type": "stream",
     "text": [
      "a) Separuh pertama: abcdefghijklm\n",
      "b) Separuh pertama (hanya indeks akhir): abcdefghijklm\n",
      "c) Separuh kedua: nopqrstuvwxyz\n",
      "d) Separuh kedua (hanya indeks awal): nopqrstuvwxyz\n",
      "e) Setiap huruf kedua: acegikmoqsuwy\n",
      "f) Seluruh string dalam urutan terbalik: zyxwvutsrqponmlkjihgfedcba\n",
      "g) Setiap huruf ketiga dalam urutan terbalik: zwtqnkheb\n"
     ]
    }
   ],
   "source": [
    "#5.5\n",
    "alphabet = 'abcdefghijklmnopqrstuvwxyz'\n",
    "\n",
    "# a) Separuh pertama dari string menggunakan indeks awal dan indeks akhir.\n",
    "first_half = alphabet[:len(alphabet)//2]\n",
    "\n",
    "# b) Separuh pertama dari string menggunakan hanya indeks akhir.\n",
    "first_half_end = alphabet[:len(alphabet)//2]\n",
    "\n",
    "# c) Separuh kedua dari string menggunakan indeks awal dan indeks akhir.\n",
    "second_half = alphabet[len(alphabet)//2:]\n",
    "\n",
    "# d) Separuh kedua dari string menggunakan hanya indeks awal.\n",
    "second_half_start = alphabet[len(alphabet)//2:]\n",
    "\n",
    "# e) Setiap huruf kedua dalam string dimulai dengan 'a'.\n",
    "every_second_letter = alphabet[::2]\n",
    "\n",
    "# f) Seluruh string dalam urutan terbalik.\n",
    "reversed_alphabet = alphabet[::-1]\n",
    "\n",
    "# g) Setiap huruf ketiga dari string dalam urutan terbalik dimulai dengan 'z'.\n",
    "every_third_letter_reverse = alphabet[-1::-3]\n",
    "\n",
    "# Menampilkan hasil\n",
    "print(\"a) Separuh pertama:\", first_half)\n",
    "print(\"b) Separuh pertama (hanya indeks akhir):\", first_half_end)\n",
    "print(\"c) Separuh kedua:\", second_half)\n",
    "print(\"d) Separuh kedua (hanya indeks awal):\", second_half_start)\n",
    "print(\"e) Setiap huruf kedua:\", every_second_letter)\n",
    "print(\"f) Seluruh string dalam urutan terbalik:\", reversed_alphabet)\n",
    "print(\"g) Setiap huruf ketiga dalam urutan terbalik:\", every_third_letter_reverse)"
   ]
  },
  {
   "cell_type": "code",
   "execution_count": 5,
   "metadata": {},
   "outputs": [
    {
     "name": "stdout",
     "output_type": "stream",
     "text": [
      "a: 1984, b: Doug, c: 22\n",
      "a: 22, b: 1984, c: Doug\n",
      "a: Doug, b: 22, c: 1984\n"
     ]
    }
   ],
   "source": [
    "#5.6\n",
    "def rotate(arg1, arg2, arg3):\n",
    "    return (arg3, arg1, arg2)\n",
    "\n",
    "a, b, c = 'Doug', 22, 1984\n",
    "\n",
    "# Panggil pertama kali fungsi rotate\n",
    "a, b, c = rotate(a, b, c)\n",
    "print(f'a: {a}, b: {b}, c: {c}')\n",
    "\n",
    "# Panggil kedua kali fungsi rotate\n",
    "a, b, c = rotate(a, b, c)\n",
    "print(f'a: {a}, b: {b}, c: {c}')\n",
    "\n",
    "# Panggil ketiga kali fungsi rotate\n",
    "a, b, c = rotate(a, b, c)\n",
    "print(f'a: {a}, b: {b}, c: {c}')"
   ]
  },
  {
   "cell_type": "code",
   "execution_count": 6,
   "metadata": {},
   "outputs": [
    {
     "name": "stdout",
     "output_type": "stream",
     "text": [
      "Daftar angka unik dalam urutan terurut: [1, 2, 3, 4, 5, 6, 9]\n",
      "Daftar buah unik dalam urutan terurut: ['apple', 'banana', 'grape', 'orange']\n"
     ]
    }
   ],
   "source": [
    "#5.7\n",
    "def unique_sorted_list(input_list):\n",
    "    unique_list = list(set(input_list))  # Menghilangkan duplikat dengan set\n",
    "    unique_list.sort()  # Mengurutkan daftar\n",
    "    return unique_list\n",
    "\n",
    "# Contoh penggunaan dengan daftar angka\n",
    "numbers = [3, 1, 4, 1, 5, 9, 2, 6, 5, 3]\n",
    "unique_numbers = unique_sorted_list(numbers)\n",
    "print(\"Daftar angka unik dalam urutan terurut:\", unique_numbers)\n",
    "\n",
    "# Contoh penggunaan dengan daftar string\n",
    "fruits = ['apple', 'banana', 'orange', 'apple', 'grape', 'banana']\n",
    "unique_fruits = unique_sorted_list(fruits)\n",
    "print(\"Daftar buah unik dalam urutan terurut:\", unique_fruits)"
   ]
  },
  {
   "cell_type": "code",
   "execution_count": 7,
   "metadata": {},
   "outputs": [
    {
     "name": "stdout",
     "output_type": "stream",
     "text": [
      "Angka prima kurang dari 1000:\n",
      "2 3 5 7 11 13 17 19 23 29 31 37 41 43 47 53 59 61 67 71 73 79 83 89 97 101 103 107 109 113 127 131 137 139 149 151 157 163 167 173 179 181 191 193 197 199 211 223 227 229 233 239 241 251 257 263 269 271 277 281 283 293 307 311 313 317 331 337 347 349 353 359 367 373 379 383 389 397 401 409 419 421 431 433 439 443 449 457 461 463 467 479 487 491 499 503 509 521 523 541 547 557 563 569 571 577 587 593 599 601 607 613 617 619 631 641 643 647 653 659 661 673 677 683 691 701 709 719 727 733 739 743 751 757 761 769 773 787 797 809 811 821 823 827 829 839 853 857 859 863 877 881 883 887 907 911 919 929 937 941 947 953 967 971 977 983 991 997 "
     ]
    }
   ],
   "source": [
    "#5.8\n",
    "def sieve_of_eratosthenes():\n",
    "    n = 1000  # Batas atas untuk pencarian angka prima\n",
    "    primes = [True] * (n + 1)  # Inisialisasi semua elemen dengan True\n",
    "    primes[0] = primes[1] = False  # Anggap 0 dan 1 bukan angka prima\n",
    "\n",
    "    # Menandai angka-angka yang bukan prima\n",
    "    for p in range(2, int(n**0.5) + 1):\n",
    "        if primes[p]:\n",
    "            for i in range(p * p, n + 1, p):\n",
    "                primes[i] = False\n",
    "\n",
    "    # Menampilkan angka-angka prima yang ditemukan\n",
    "    prime_numbers = [i for i, is_prime in enumerate(primes) if is_prime]\n",
    "    return prime_numbers\n",
    "\n",
    "# Memanggil fungsi Sieve of Eratosthenes\n",
    "prime_numbers = sieve_of_eratosthenes()\n",
    "\n",
    "# Menampilkan angka prima kurang dari 1000\n",
    "print(\"Angka prima kurang dari 1000:\")\n",
    "for prime in prime_numbers:\n",
    "    print(prime, end=\" \")"
   ]
  },
  {
   "cell_type": "code",
   "execution_count": 8,
   "metadata": {},
   "outputs": [
    {
     "name": "stdout",
     "output_type": "stream",
     "text": [
      "'A man, a plan, a canal, Panama' adalah palindrom: True\n",
      "'racecar' adalah palindrom: True\n",
      "'Hello, World!' adalah palindrom: False\n"
     ]
    }
   ],
   "source": [
    "#5.9\n",
    "def is_palindrome(string):\n",
    "    # Menghapus spasi dan tanda baca, dan mengubah huruf menjadi huruf kecil\n",
    "    cleaned_string = ''.join(char.lower() for char in string if char.isalnum())\n",
    "\n",
    "    # Membalikkan string dan membandingkannya dengan string asli\n",
    "    return cleaned_string == cleaned_string[::-1]\n",
    "\n",
    "# Contoh penggunaan fungsi\n",
    "string1 = \"A man, a plan, a canal, Panama\"\n",
    "string2 = \"racecar\"\n",
    "string3 = \"Hello, World!\"\n",
    "\n",
    "result1 = is_palindrome(string1)\n",
    "result2 = is_palindrome(string2)\n",
    "result3 = is_palindrome(string3)\n",
    "\n",
    "print(f\"'{string1}' adalah palindrom: {result1}\")\n",
    "print(f\"'{string2}' adalah palindrom: {result2}\")\n",
    "print(f\"'{string3}' adalah palindrom: {result3}\")"
   ]
  },
  {
   "cell_type": "code",
   "execution_count": 9,
   "metadata": {},
   "outputs": [
    {
     "name": "stdout",
     "output_type": "stream",
     "text": [
      "tes\n",
      "tse\n",
      "ets\n",
      "est\n",
      "ste\n",
      "set\n"
     ]
    }
   ],
   "source": [
    "#5.10\n",
    "def generate_anagrams(string):\n",
    "    # Base case: jika panjang string adalah 1, kembalikan string itu sendiri sebagai anagram tunggal\n",
    "    if len(string) == 1:\n",
    "        return [string]\n",
    "\n",
    "    # List untuk menyimpan semua anagram\n",
    "    anagrams = []\n",
    "\n",
    "    # Iterasi melalui setiap karakter dalam string\n",
    "    for char in string:\n",
    "        # Mengambil karakter yang akan dihapus dari string\n",
    "        remaining_chars = string.replace(char, \"\", 1)\n",
    "        \n",
    "        # Membuat anagram dari karakter yang diambil\n",
    "        partial_anagrams = generate_anagrams(remaining_chars)\n",
    "        \n",
    "        # Menambahkan karakter yang diambil ke setiap anagram parsial\n",
    "        anagrams.extend([char + partial_anagram for partial_anagram in partial_anagrams])\n",
    "\n",
    "    return anagrams\n",
    "\n",
    "# Contoh penggunaan skrip\n",
    "input_string = \"tes\"\n",
    "all_anagrams = generate_anagrams(input_string)\n",
    "\n",
    "# Menampilkan semua anagram\n",
    "for anagram in all_anagrams:\n",
    "    print(anagram)"
   ]
  },
  {
   "cell_type": "code",
   "execution_count": 10,
   "metadata": {},
   "outputs": [
    {
     "name": "stdout",
     "output_type": "stream",
     "text": [
      "d: 1\n",
      "e: 1\n",
      "h: 1\n",
      "l: 3\n",
      "o: 2\n",
      "r: 1\n",
      "w: 1\n",
      "String tidak memiliki semua huruf alfabet.\n"
     ]
    }
   ],
   "source": [
    "#5.11\n",
    "def summarize_letters(input_string):\n",
    "    # Menghapus spasi dan tanda baca, dan mengubah huruf menjadi huruf kecil\n",
    "    cleaned_string = ''.join(char.lower() for char in input_string if char.isalnum())\n",
    "\n",
    "    # Menghitung frekuensi setiap huruf dalam string\n",
    "    letter_counts = {}\n",
    "    for char in cleaned_string:\n",
    "        if char in letter_counts:\n",
    "            letter_counts[char] += 1\n",
    "        else:\n",
    "            letter_counts[char] = 1\n",
    "\n",
    "    # Menghasilkan daftar tupel berisi huruf unik dan frekuensinya\n",
    "    letter_summary = list(letter_counts.items())\n",
    "    letter_summary.sort()\n",
    "\n",
    "    return letter_summary\n",
    "\n",
    "# Contoh penggunaan fungsi\n",
    "input_string = \"Hello, World!\"\n",
    "letter_summary = summarize_letters(input_string)\n",
    "\n",
    "# Menampilkan setiap huruf dengan frekuensinya\n",
    "for letter, count in letter_summary:\n",
    "    print(f\"{letter}: {count}\")\n",
    "\n",
    "# Mengecek apakah string memiliki semua huruf alfabet\n",
    "is_full_alphabet = set(\"abcdefghijklmnopqrstuvwxyz\").issubset([letter for letter, count in letter_summary])\n",
    "if is_full_alphabet:\n",
    "    print(\"String memiliki semua huruf alfabet.\")\n",
    "else:\n",
    "    print(\"String tidak memiliki semua huruf alfabet.\")"
   ]
  },
  {
   "cell_type": "code",
   "execution_count": null,
   "metadata": {},
   "outputs": [],
   "source": [
    "#5.12\n",
    "import itertools\n",
    "\n",
    "# Tabel digit-huruf\n",
    "digit_to_letters = {\n",
    "    '2': 'ABC',\n",
    "    '3': 'DEF',\n",
    "    '4': 'GHI',\n",
    "    '5': 'JKL',\n",
    "    '6': 'MNO',\n",
    "    '7': 'PRS',\n",
    "    '8': 'TUV',\n",
    "    '9': 'WXY'\n",
    "}\n",
    "\n",
    "def generate_word_combinations(phone_number):\n",
    "    # Menghapus digit 0 dan 1 dari nomor telepon\n",
    "    phone_number = ''.join(char for char in phone_number if char not in '01')\n",
    "\n",
    "    # Menghasilkan semua kombinasi kata berjumlah tujuh huruf sesuai dengan nomor telepon\n",
    "    combinations = [''.join(combination) for combination in itertools.product(*[digit_to_letters[digit] for digit in phone_number])]\n",
    "    return combinations\n",
    "\n",
    "# Contoh penggunaan skrip\n",
    "phone_number = \"7382273\"\n",
    "word_combinations = generate_word_combinations(phone_number)\n",
    "\n",
    "# Menampilkan semua kombinasi kata\n",
    "for word in word_combinations:\n",
    "    print(word)"
   ]
  },
  {
   "cell_type": "code",
   "execution_count": 1,
   "metadata": {},
   "outputs": [
    {
     "name": "stdout",
     "output_type": "stream",
     "text": [
      "4355666\n"
     ]
    }
   ],
   "source": [
    "#5.13\n",
    "import itertools\n",
    "\n",
    "# Tabel huruf-digit\n",
    "letters_to_digits = {\n",
    "    'A': '2',\n",
    "    'B': '2',\n",
    "    'C': '2',\n",
    "    'D': '3',\n",
    "    'E': '3',\n",
    "    'F': '3',\n",
    "    'G': '4',\n",
    "    'H': '4',\n",
    "    'I': '4',\n",
    "    'J': '5',\n",
    "    'K': '5',\n",
    "    'L': '5',\n",
    "    'M': '6',\n",
    "    'N': '6',\n",
    "    'O': '6',\n",
    "    'P': '7',\n",
    "    'R': '7',\n",
    "    'S': '7',\n",
    "    'T': '8',\n",
    "    'U': '8',\n",
    "    'V': '8',\n",
    "    'W': '9',\n",
    "    'X': '9',\n",
    "    'Y': '9'\n",
    "}\n",
    "\n",
    "def generate_phone_numbers(word):\n",
    "    word = word.upper()  # Mengonversi kata menjadi huruf besar untuk memastikan konsistensi\n",
    "    combinations = [''.join(letters_to_digits.get(letter, letter) for letter in word) for word in itertools.product(*word)]\n",
    "    return combinations\n",
    "\n",
    "# Contoh penggunaan skrip\n",
    "word = \"HELLOOO\"\n",
    "phone_number_combinations = generate_phone_numbers(word)\n",
    "\n",
    "# Menampilkan semua kemungkinan nomor telepon\n",
    "for phone_number in phone_number_combinations:\n",
    "    print(phone_number)"
   ]
  },
  {
   "cell_type": "code",
   "execution_count": 3,
   "metadata": {},
   "outputs": [
    {
     "name": "stdout",
     "output_type": "stream",
     "text": [
      "Sorted List (List): True\n",
      "Unsorted List (List): False\n",
      "Sorted Tuple (Tuple): True\n",
      "Unsorted Tuple (Tuple): False\n",
      "Sorted String (String): True\n",
      "Unsorted String (String): False\n"
     ]
    }
   ],
   "source": [
    "#5.14\n",
    "def is_ordered(sequence):\n",
    "    if all(sequence[i] <= sequence[i + 1] for i in range(len(sequence) - 1)):\n",
    "        return True\n",
    "    return False\n",
    "\n",
    "# Contoh pengujian dengan daftar (list)\n",
    "sorted_list = [1, 2, 3, 4, 5]\n",
    "unsorted_list = [4, 2, 6, 1, 5]\n",
    "\n",
    "print(\"Sorted List (List):\", is_ordered(sorted_list))  # Output: True\n",
    "print(\"Unsorted List (List):\", is_ordered(unsorted_list))  # Output: False\n",
    "\n",
    "# Contoh pengujian dengan tupel (tuple)\n",
    "sorted_tuple = (1, 2, 3, 4, 5)\n",
    "unsorted_tuple = (4, 2, 6, 1, 5)\n",
    "\n",
    "print(\"Sorted Tuple (Tuple):\", is_ordered(sorted_tuple))  # Output: True\n",
    "print(\"Unsorted Tuple (Tuple):\", is_ordered(unsorted_tuple))  # Output: False\n",
    "\n",
    "# Contoh pengujian dengan string\n",
    "sorted_string = \"abcde\"\n",
    "unsorted_string = \"edcba\"\n",
    "\n",
    "print(\"Sorted String (String):\", is_ordered(sorted_string))  # Output: True\n",
    "print(\"Unsorted String (String):\", is_ordered(unsorted_string))  # Output: False"
   ]
  },
  {
   "cell_type": "code",
   "execution_count": 4,
   "metadata": {},
   "outputs": [
    {
     "name": "stdout",
     "output_type": "stream",
     "text": [
      "a) Diurutkan berdasarkan Deskripsi Barang:\n",
      "('83', 'Electric sander', 7, 57.98)\n",
      "('77', 'Hammer', 76, 11.99)\n",
      "('39', 'Jig saw', 3, 79.5)\n",
      "('24', 'Power saw', 18, 99.99)\n",
      "('7', 'Sledge hammer', 11, 21.5)\n",
      "\n",
      "b) Diurutkan berdasarkan Harga:\n",
      "('77', 'Hammer', 76, 11.99)\n",
      "('7', 'Sledge hammer', 11, 21.5)\n",
      "('83', 'Electric sander', 7, 57.98)\n",
      "('39', 'Jig saw', 3, 79.5)\n",
      "('24', 'Power saw', 18, 99.99)\n",
      "\n",
      "c) Diurutkan berdasarkan Kuantitas:\n",
      "('Jig saw', 3)\n",
      "('Electric sander', 7)\n",
      "('Sledge hammer', 11)\n",
      "('Power saw', 18)\n",
      "('Hammer', 76)\n",
      "\n",
      "d) Diurutkan berdasarkan Nilai Faktur:\n",
      "('Sledge hammer', 236.5)\n",
      "('Jig saw', 238.5)\n",
      "('Electric sander', 405.85999999999996)\n",
      "('Hammer', 911.24)\n",
      "('Power saw', 1799.82)\n",
      "\n",
      "e) Faktur dalam Rentang $200 hingga $500:\n",
      "('Electric sander', 405.85999999999996)\n",
      "('Sledge hammer', 236.5)\n",
      "('Jig saw', 238.5)\n",
      "\n",
      "f) Total Nilai Faktur: 3591.92\n"
     ]
    }
   ],
   "source": [
    "#5.15\n",
    "from operator import itemgetter\n",
    "\n",
    "# Data contoh faktur toko peralatan sebagai tuple\n",
    "invoices = [\n",
    "    ('83', 'Electric sander', 7, 57.98),\n",
    "    ('24', 'Power saw', 18, 99.99),\n",
    "    ('7', 'Sledge hammer', 11, 21.50),\n",
    "    ('77', 'Hammer', 76, 11.99),\n",
    "    ('39', 'Jig saw', 3, 79.50)\n",
    "]\n",
    "\n",
    "# a) Mengurutkan faktur berdasarkan deskripsi barang\n",
    "sorted_by_description = sorted(invoices, key=itemgetter(1))\n",
    "print(\"a) Diurutkan berdasarkan Deskripsi Barang:\")\n",
    "for invoice in sorted_by_description:\n",
    "    print(invoice)\n",
    "\n",
    "# b) Mengurutkan faktur berdasarkan harga\n",
    "sorted_by_price = sorted(invoices, key=itemgetter(3))\n",
    "print(\"\\nb) Diurutkan berdasarkan Harga:\")\n",
    "for invoice in sorted_by_price:\n",
    "    print(invoice)\n",
    "\n",
    "# c) Memetakan setiap faktur ke tuple yang berisi deskripsi barang dan kuantitas, lalu diurutkan berdasarkan kuantitas\n",
    "mapped_and_sorted_by_quantity = sorted([(invoice[1], invoice[2]) for invoice in invoices], key=itemgetter(1))\n",
    "print(\"\\nc) Diurutkan berdasarkan Kuantitas:\")\n",
    "for invoice in mapped_and_sorted_by_quantity:\n",
    "    print(invoice)\n",
    "\n",
    "# d) Memetakan setiap faktur ke tuple yang berisi deskripsi barang dan nilai faktur (hasil perkalian kuantitas dan harga barang), lalu diurutkan berdasarkan nilai faktur\n",
    "mapped_and_sorted_by_value = sorted([(invoice[1], invoice[2] * invoice[3]) for invoice in invoices], key=itemgetter(1))\n",
    "print(\"\\nd) Diurutkan berdasarkan Nilai Faktur:\")\n",
    "for invoice in mapped_and_sorted_by_value:\n",
    "    print(invoice)\n",
    "\n",
    "# e) Menyaring hasilnya untuk nilai faktur dalam kisaran $200 hingga $500\n",
    "filtered_invoices = [(invoice[1], invoice[2] * invoice[3]) for invoice in invoices if 200 <= invoice[2] * invoice[3] <= 500]\n",
    "print(\"\\ne) Faktur dalam Rentang $200 hingga $500:\")\n",
    "for invoice in filtered_invoices:\n",
    "    print(invoice)\n",
    "\n",
    "# f) Menghitung total dari semua faktur\n",
    "total_nilai_faktur = sum(invoice[2] * invoice[3] for invoice in invoices)\n",
    "print(\"\\nf) Total Nilai Faktur:\", total_nilai_faktur)"
   ]
  },
  {
   "cell_type": "code",
   "execution_count": 5,
   "metadata": {},
   "outputs": [
    {
     "name": "stdout",
     "output_type": "stream",
     "text": [
      "a) Daftar Asli: ['D', 'E', 'F', 'B', 'A', 'A', 'D', 'A', 'D', 'A', 'C', 'F', 'A', 'D', 'E', 'F', 'D', 'C', 'A', 'B']\n",
      "b) Diurutkan Secara Menaik: ['A', 'A', 'A', 'A', 'A', 'A', 'B', 'B', 'C', 'C', 'D', 'D', 'D', 'D', 'D', 'E', 'E', 'F', 'F', 'F']\n",
      "c) Diurutkan Secara Menurun: ['F', 'F', 'F', 'E', 'E', 'D', 'D', 'D', 'D', 'D', 'C', 'C', 'B', 'B', 'A', 'A', 'A', 'A', 'A', 'A']\n",
      "d) Nilai Unik Diurutkan Secara Menaik: ['A', 'B', 'C', 'D', 'E', 'F']\n"
     ]
    }
   ],
   "source": [
    "#5.16\n",
    "import random\n",
    "\n",
    "# a) Menghasilkan 20 huruf acak dalam rentang 'a' hingga 'f'\n",
    "random_letters = [chr(random.randint(ord('a'), ord('f'))).upper() for _ in range(20)]  # Menggunakan upper() untuk mengubah huruf menjadi huruf besar\n",
    "\n",
    "# Menampilkan daftar asli\n",
    "print(\"a) Daftar Asli:\", random_letters)\n",
    "\n",
    "# b) Mengurutkan daftar secara menaik\n",
    "ascending_sorted = sorted(random_letters)\n",
    "print(\"b) Diurutkan Secara Menaik:\", ascending_sorted)\n",
    "\n",
    "# c) Mengurutkan daftar secara menurun\n",
    "descending_sorted = sorted(random_letters, reverse=True)\n",
    "print(\"c) Diurutkan Secara Menurun:\", descending_sorted)\n",
    "\n",
    "# d) Mendapatkan nilai unik dan mengurutkannya secara menaik\n",
    "unique_values = list(set(random_letters))\n",
    "unique_values.sort()\n",
    "print(\"d) Nilai Unik Diurutkan Secara Menaik:\", unique_values)"
   ]
  },
  {
   "cell_type": "code",
   "execution_count": 6,
   "metadata": {},
   "outputs": [
    {
     "name": "stdout",
     "output_type": "stream",
     "text": [
      "Called filter with 10\n",
      "Called filter with 3\n",
      "Called map with 3\n",
      "Called filter with 7\n",
      "Called map with 7\n",
      "Called filter with 1\n",
      "Called map with 1\n",
      "Called filter with 9\n",
      "Called map with 9\n",
      "Called filter with 4\n",
      "Called filter with 2\n",
      "Called filter with 8\n",
      "Called filter with 5\n",
      "Called map with 5\n",
      "Called filter with 6\n",
      "[9, 49, 1, 81, 25]\n"
     ]
    }
   ],
   "source": [
    "#5.17\n",
    "def is_odd(x):\n",
    "    print(f\"Called filter with {x}\")\n",
    "    return x % 2 != 0\n",
    "\n",
    "def square(x):\n",
    "    print(f\"Called map with {x}\")\n",
    "    return x ** 2\n",
    "\n",
    "numbers = [10, 3, 7, 1, 9, 4, 2, 8, 5, 6]\n",
    "#output\n",
    "result = list(map(square, filter(is_odd, numbers)))\n",
    "print(result)"
   ]
  }
 ],
 "metadata": {
  "kernelspec": {
   "display_name": "Python 3 (ipykernel)",
   "language": "python",
   "name": "python3"
  },
  "language_info": {
   "codemirror_mode": {
    "name": "ipython",
    "version": 3
   },
   "file_extension": ".py",
   "mimetype": "text/x-python",
   "name": "python",
   "nbconvert_exporter": "python",
   "pygments_lexer": "ipython3",
   "version": "3.12.0"
  }
 },
 "nbformat": 4,
 "nbformat_minor": 4
}
