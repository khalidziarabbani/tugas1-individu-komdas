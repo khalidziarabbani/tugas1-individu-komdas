{
 "cells": [
  {
   "cell_type": "code",
   "execution_count": 2,
   "id": "ff1a0195",
   "metadata": {},
   "outputs": [
    {
     "name": "stdout",
     "output_type": "stream",
     "text": [
      "Celsius  |  Fahrenheit\n",
      "----------------------\n",
      "      0 | 32.0\n",
      "      1 | 33.8\n",
      "      2 | 35.6\n",
      "      3 | 37.4\n",
      "      4 | 39.2\n",
      "      5 | 41.0\n",
      "      6 | 42.8\n",
      "      7 | 44.6\n",
      "      8 | 46.4\n",
      "      9 | 48.2\n",
      "     10 | 50.0\n",
      "     11 | 51.8\n",
      "     12 | 53.6\n",
      "     13 | 55.4\n",
      "     14 | 57.2\n",
      "     15 | 59.0\n",
      "     16 | 60.8\n",
      "     17 | 62.6\n",
      "     18 | 64.4\n",
      "     19 | 66.2\n",
      "     20 | 68.0\n",
      "     21 | 69.8\n",
      "     22 | 71.6\n",
      "     23 | 73.4\n",
      "     24 | 75.2\n",
      "     25 | 77.0\n",
      "     26 | 78.8\n",
      "     27 | 80.6\n",
      "     28 | 82.4\n",
      "     29 | 84.2\n",
      "     30 | 86.0\n",
      "     31 | 87.8\n",
      "     32 | 89.6\n",
      "     33 | 91.4\n",
      "     34 | 93.2\n",
      "     35 | 95.0\n",
      "     36 | 96.8\n",
      "     37 | 98.6\n",
      "     38 | 100.4\n",
      "     39 | 102.2\n",
      "     40 | 104.0\n",
      "     41 | 105.8\n",
      "     42 | 107.6\n",
      "     43 | 109.4\n",
      "     44 | 111.2\n",
      "     45 | 113.0\n",
      "     46 | 114.8\n",
      "     47 | 116.6\n",
      "     48 | 118.4\n",
      "     49 | 120.2\n",
      "     50 | 122.0\n",
      "     51 | 123.8\n",
      "     52 | 125.6\n",
      "     53 | 127.4\n",
      "     54 | 129.2\n",
      "     55 | 131.0\n",
      "     56 | 132.8\n",
      "     57 | 134.6\n",
      "     58 | 136.4\n",
      "     59 | 138.2\n",
      "     60 | 140.0\n",
      "     61 | 141.8\n",
      "     62 | 143.6\n",
      "     63 | 145.4\n",
      "     64 | 147.2\n",
      "     65 | 149.0\n",
      "     66 | 150.8\n",
      "     67 | 152.6\n",
      "     68 | 154.4\n",
      "     69 | 156.2\n",
      "     70 | 158.0\n",
      "     71 | 159.8\n",
      "     72 | 161.6\n",
      "     73 | 163.4\n",
      "     74 | 165.2\n",
      "     75 | 167.0\n",
      "     76 | 168.8\n",
      "     77 | 170.6\n",
      "     78 | 172.4\n",
      "     79 | 174.2\n",
      "     80 | 176.0\n",
      "     81 | 177.8\n",
      "     82 | 179.6\n",
      "     83 | 181.4\n",
      "     84 | 183.2\n",
      "     85 | 185.0\n",
      "     86 | 186.8\n",
      "     87 | 188.6\n",
      "     88 | 190.4\n",
      "     89 | 192.2\n",
      "     90 | 194.0\n",
      "     91 | 195.8\n",
      "     92 | 197.6\n",
      "     93 | 199.4\n",
      "     94 | 201.2\n",
      "     95 | 203.0\n",
      "     96 | 204.8\n",
      "     97 | 206.6\n",
      "     98 | 208.4\n",
      "     99 | 210.2\n",
      "    100 | 212.0\n"
     ]
    }
   ],
   "source": [
    "#4.9\n",
    "def celsius_to_fahrenheit(celsius):\n",
    "    fahrenheit = (9 / 5) * celsius + 32\n",
    "    return fahrenheit\n",
    "def make_table():\n",
    "    print(\"Celsius  |  Fahrenheit\")\n",
    "    print(\"----------------------\")\n",
    "    for celsius in range(101):\n",
    "        fahrenheit = celsius_to_fahrenheit(celsius)\n",
    "        print(f\"{celsius:7} | {fahrenheit:.1f}\")\n",
    "make_table()"
   ]
  },
  {
   "cell_type": "code",
   "execution_count": 3,
   "id": "565ea959",
   "metadata": {},
   "outputs": [
    {
     "name": "stdin",
     "output_type": "stream",
     "text": [
      "Guess my number between 1 and 1000 with the fewest guesses:  500\n"
     ]
    },
    {
     "name": "stdout",
     "output_type": "stream",
     "text": [
      "Too low. Try again.\n"
     ]
    },
    {
     "name": "stdin",
     "output_type": "stream",
     "text": [
      "Guess my number between 1 and 1000 with the fewest guesses:  700\n"
     ]
    },
    {
     "name": "stdout",
     "output_type": "stream",
     "text": [
      "Too low. Try again.\n"
     ]
    },
    {
     "name": "stdin",
     "output_type": "stream",
     "text": [
      "Guess my number between 1 and 1000 with the fewest guesses:  900\n"
     ]
    },
    {
     "name": "stdout",
     "output_type": "stream",
     "text": [
      "Too high. Try again.\n"
     ]
    },
    {
     "name": "stdin",
     "output_type": "stream",
     "text": [
      "Guess my number between 1 and 1000 with the fewest guesses:  820\n"
     ]
    },
    {
     "name": "stdout",
     "output_type": "stream",
     "text": [
      "Too high. Try again.\n"
     ]
    },
    {
     "name": "stdin",
     "output_type": "stream",
     "text": [
      "Guess my number between 1 and 1000 with the fewest guesses:  780\n"
     ]
    },
    {
     "name": "stdout",
     "output_type": "stream",
     "text": [
      "Too high. Try again.\n"
     ]
    },
    {
     "name": "stdin",
     "output_type": "stream",
     "text": [
      "Guess my number between 1 and 1000 with the fewest guesses:  740\n"
     ]
    },
    {
     "name": "stdout",
     "output_type": "stream",
     "text": [
      "Too high. Try again.\n"
     ]
    },
    {
     "name": "stdin",
     "output_type": "stream",
     "text": [
      "Guess my number between 1 and 1000 with the fewest guesses:  712\n"
     ]
    },
    {
     "name": "stdout",
     "output_type": "stream",
     "text": [
      "Too high. Try again.\n"
     ]
    },
    {
     "name": "stdin",
     "output_type": "stream",
     "text": [
      "Guess my number between 1 and 1000 with the fewest guesses:  704\n"
     ]
    },
    {
     "name": "stdout",
     "output_type": "stream",
     "text": [
      "Too low. Try again.\n"
     ]
    },
    {
     "name": "stdin",
     "output_type": "stream",
     "text": [
      "Guess my number between 1 and 1000 with the fewest guesses:  706\n"
     ]
    },
    {
     "name": "stdout",
     "output_type": "stream",
     "text": [
      "Too high. Try again.\n"
     ]
    },
    {
     "name": "stdin",
     "output_type": "stream",
     "text": [
      "Guess my number between 1 and 1000 with the fewest guesses:  705\n"
     ]
    },
    {
     "name": "stdout",
     "output_type": "stream",
     "text": [
      "Congratulations. You guessed the number in 10 attempts!\n"
     ]
    },
    {
     "name": "stdin",
     "output_type": "stream",
     "text": [
      "Do you want to play again? (yes/no):  no\n"
     ]
    }
   ],
   "source": [
    "#4.10\n",
    "import random\n",
    "\n",
    "def guess_the_number():\n",
    "    secret_number = random.randint(1, 1000)\n",
    "    attempts = 0\n",
    "    while True:\n",
    "        try:\n",
    "            guess = int(input(\"Guess my number between 1 and 1000 with the fewest guesses: \"))\n",
    "            attempts += 1\n",
    "            if guess < secret_number:\n",
    "                print(\"Too low. Try again.\")\n",
    "            elif guess > secret_number:\n",
    "                print(\"Too high. Try again.\")\n",
    "            else:\n",
    "                print(f\"Congratulations. You guessed the number in {attempts} attempts!\")\n",
    "                play_again = input(\"Do you want to play again? (yes/no): \").lower()\n",
    "                if play_again != \"yes\":\n",
    "                    break\n",
    "                else:\n",
    "                    secret_number = random.randint(1, 1000)\n",
    "                    attempts = 0\n",
    "        except ValueError:\n",
    "            print(\"Invalid input. Please enter a valid number.\")\n",
    "if __name__ == \"__main__\":\n",
    "    guess_the_number()"
   ]
  },
  {
   "cell_type": "code",
   "execution_count": 4,
   "id": "5fe6791f",
   "metadata": {},
   "outputs": [
    {
     "name": "stdin",
     "output_type": "stream",
     "text": [
      "Guess my number between 1 and 1000 with the fewest guesses:  600\n"
     ]
    },
    {
     "name": "stdout",
     "output_type": "stream",
     "text": [
      "Too high. Try again.\n"
     ]
    },
    {
     "name": "stdin",
     "output_type": "stream",
     "text": [
      "Guess my number between 1 and 1000 with the fewest guesses:  400\n"
     ]
    },
    {
     "name": "stdout",
     "output_type": "stream",
     "text": [
      "Too high. Try again.\n"
     ]
    },
    {
     "name": "stdin",
     "output_type": "stream",
     "text": [
      "Guess my number between 1 and 1000 with the fewest guesses:  200\n"
     ]
    },
    {
     "name": "stdout",
     "output_type": "stream",
     "text": [
      "Too low. Try again.\n"
     ]
    },
    {
     "name": "stdin",
     "output_type": "stream",
     "text": [
      "Guess my number between 1 and 1000 with the fewest guesses:  350\n"
     ]
    },
    {
     "name": "stdout",
     "output_type": "stream",
     "text": [
      "Too high. Try again.\n"
     ]
    },
    {
     "name": "stdin",
     "output_type": "stream",
     "text": [
      "Guess my number between 1 and 1000 with the fewest guesses:  300\n"
     ]
    },
    {
     "name": "stdout",
     "output_type": "stream",
     "text": [
      "Too high. Try again.\n"
     ]
    },
    {
     "name": "stdin",
     "output_type": "stream",
     "text": [
      "Guess my number between 1 and 1000 with the fewest guesses:  240\n"
     ]
    },
    {
     "name": "stdout",
     "output_type": "stream",
     "text": [
      "Too high. Try again.\n"
     ]
    },
    {
     "name": "stdin",
     "output_type": "stream",
     "text": [
      "Guess my number between 1 and 1000 with the fewest guesses:  215\n"
     ]
    },
    {
     "name": "stdout",
     "output_type": "stream",
     "text": [
      "Too low. Try again.\n"
     ]
    },
    {
     "name": "stdin",
     "output_type": "stream",
     "text": [
      "Guess my number between 1 and 1000 with the fewest guesses:  230\n"
     ]
    },
    {
     "name": "stdout",
     "output_type": "stream",
     "text": [
      "Too high. Try again.\n"
     ]
    },
    {
     "name": "stdin",
     "output_type": "stream",
     "text": [
      "Guess my number between 1 and 1000 with the fewest guesses:  225\n"
     ]
    },
    {
     "name": "stdout",
     "output_type": "stream",
     "text": [
      "Too high. Try again.\n"
     ]
    },
    {
     "name": "stdin",
     "output_type": "stream",
     "text": [
      "Guess my number between 1 and 1000 with the fewest guesses:  220\n"
     ]
    },
    {
     "name": "stdout",
     "output_type": "stream",
     "text": [
      "Too low. Try again.\n"
     ]
    },
    {
     "name": "stdin",
     "output_type": "stream",
     "text": [
      "Guess my number between 1 and 1000 with the fewest guesses:  223\n"
     ]
    },
    {
     "name": "stdout",
     "output_type": "stream",
     "text": [
      "Too high. Try again.\n"
     ]
    },
    {
     "name": "stdin",
     "output_type": "stream",
     "text": [
      "Guess my number between 1 and 1000 with the fewest guesses:  222\n"
     ]
    },
    {
     "name": "stdout",
     "output_type": "stream",
     "text": [
      "Too high. Try again.\n"
     ]
    },
    {
     "name": "stdin",
     "output_type": "stream",
     "text": [
      "Guess my number between 1 and 1000 with the fewest guesses:  221\n"
     ]
    },
    {
     "name": "stdout",
     "output_type": "stream",
     "text": [
      "Congratulations. You guessed the number in 13 attempts!\n",
      "You should be able to do better!\n"
     ]
    },
    {
     "name": "stdin",
     "output_type": "stream",
     "text": [
      "Do you want to play again? (yes/no):  no\n"
     ]
    }
   ],
   "source": [
    "#4.11\n",
    "import random\n",
    "\n",
    "def guess_the_number():\n",
    "    secret_number = random.randint(1, 1000)\n",
    "    attempts = 0\n",
    "\n",
    "    while True:\n",
    "        try:\n",
    "            guess = int(input(\"Guess my number between 1 and 1000 with the fewest guesses: \"))\n",
    "            attempts += 1\n",
    "\n",
    "            if guess < secret_number:\n",
    "                print(\"Too low. Try again.\")\n",
    "            elif guess > secret_number:\n",
    "                print(\"Too high. Try again.\")\n",
    "            else:\n",
    "                print(f\"Congratulations. You guessed the number in {attempts} attempts!\")\n",
    "\n",
    "                if attempts <= 10:\n",
    "                    print(\"Either you know the secret or you got lucky!\")\n",
    "                else:\n",
    "                    print(\"You should be able to do better!\")\n",
    "\n",
    "                play_again = input(\"Do you want to play again? (yes/no): \").lower()\n",
    "                if play_again != \"yes\":\n",
    "                    break\n",
    "                else:\n",
    "                    secret_number = random.randint(1, 1000)\n",
    "                    attempts = 0\n",
    "        except ValueError:\n",
    "            print(\"Invalid input. Please enter a valid number.\")\n",
    "\n",
    "if __name__ == \"__main__\":\n",
    "    guess_the_number()"
   ]
  },
  {
   "cell_type": "code",
   "execution_count": 5,
   "id": "9e3cc501",
   "metadata": {},
   "outputs": [
    {
     "name": "stdout",
     "output_type": "stream",
     "text": [
      "BANG !!!!!\n",
      "AND THEY'RE OFF !!!!!\n",
      " H T                                                                  \n",
      "  H T                                                                 \n",
      "       T   H                                                          \n",
      "          T H                                                         \n",
      "             OUCH!!!                                                        \n",
      "              H T                                                     \n",
      "  H              T                                                    \n",
      "   H                T                                                 \n",
      "   H                   T                                              \n",
      "            H             T                                           \n",
      "             H               T                                        \n",
      "              H                 T                                     \n",
      "  H                              T                                    \n",
      "   H                                T                                 \n",
      "   H                                 T                                \n",
      "            H                           T                             \n",
      "             H                           T                            \n",
      "              H                           T                           \n",
      "               H                             T                        \n",
      "                H                               T                     \n",
      "                H                                  T                  \n",
      "                H                                     T               \n",
      "                         H                               T            \n",
      "                         H                         T                  \n",
      "                          H                           T               \n",
      "                           H                             T            \n",
      "                            H                      T                  \n",
      "                                     H                T               \n",
      "                                      H                T              \n",
      "                          H                               T           \n",
      "                                   H                T                 \n",
      "                                            H          T              \n",
      "                                H                         T           \n",
      "                                         H                   T        \n",
      "                                          H            T              \n",
      "                                           H              T           \n",
      "                                            H              T          \n",
      "                                             H              T         \n",
      "                                 H                           T        \n",
      "                                  H                           T       \n",
      "                                  H                     T             \n",
      "                      H                                    T          \n",
      "                      H                                     T         \n",
      "                       H                                       T      \n",
      "                        H                                         T   \n",
      "                         H                                           T\n",
      "TORTOISE WINS!!! YAY!!!\n"
     ]
    }
   ],
   "source": [
    "#4.12\n",
    "import random\n",
    "\n",
    "def tortoise_move():\n",
    "    move_type = random.randint(1, 10)\n",
    "    if 1 <= move_type <= 5:\n",
    "        return 3  # Fast plod\n",
    "    elif 6 <= move_type <= 7:\n",
    "        return -6  # Slip\n",
    "    else:\n",
    "        return 1  # Slow plod\n",
    "\n",
    "def hare_move():\n",
    "    move_type = random.randint(1, 10)\n",
    "    if 1 <= move_type <= 2:\n",
    "        return 0  # Sleep\n",
    "    elif 3 <= move_type <= 4:\n",
    "        return 9  # Big hop\n",
    "    elif 5 <= move_type <= 5:\n",
    "        return -12  # Big slip\n",
    "    elif 6 <= move_type <= 10:\n",
    "        return 1  # Small hop\n",
    "    else:\n",
    "        return -2  # Small slip\n",
    "\n",
    "def display_race(tortoise, hare):\n",
    "    for i in range(1, 71):\n",
    "        if i == tortoise and i == hare:\n",
    "            print(\"OUCH!!!\", end='')\n",
    "        elif i == tortoise:\n",
    "            print(\"T\", end='')\n",
    "        elif i == hare:\n",
    "            print(\"H\", end='')\n",
    "        else:\n",
    "            print(\" \", end='')\n",
    "    print()\n",
    "\n",
    "def race():\n",
    "    tortoise_position = 1\n",
    "    hare_position = 1\n",
    "\n",
    "    print(\"BANG !!!!!\")\n",
    "    print(\"AND THEY'RE OFF !!!!!\")\n",
    "\n",
    "    while True:\n",
    "        tortoise_position += tortoise_move()\n",
    "        hare_position += hare_move()\n",
    "\n",
    "        if tortoise_position < 1:\n",
    "            tortoise_position = 1\n",
    "        if hare_position < 1:\n",
    "            hare_position = 1\n",
    "\n",
    "        display_race(tortoise_position, hare_position)\n",
    "\n",
    "        if tortoise_position >= 70 and hare_position >= 70:\n",
    "            print(\"It's a tie!\")\n",
    "            break\n",
    "        elif tortoise_position >= 70:\n",
    "            print(\"TORTOISE WINS!!! YAY!!!\")\n",
    "            break\n",
    "        elif hare_position >= 70:\n",
    "            print(\"Hare wins. Yuch.\")\n",
    "            break\n",
    "\n",
    "if __name__ == \"__main__\":\n",
    "    race()"
   ]
  },
  {
   "cell_type": "code",
   "execution_count": 6,
   "id": "f2e6b583",
   "metadata": {},
   "outputs": [
    {
     "name": "stdout",
     "output_type": "stream",
     "text": [
      "Product of (2, 3, 4) is: 24\n",
      "Product of (5, 6, 7, 8) is: 1680\n",
      "Product of (1, 2, 3, 4, 5, 6) is: 720\n"
     ]
    }
   ],
   "source": [
    "#4.13\n",
    "def product(*args):\n",
    "    result = 1\n",
    "    for num in args:\n",
    "        result *= num\n",
    "    print(f\"Product of {args} is: {result}\")\n",
    "\n",
    "# Test the function with different numbers of arguments\n",
    "product(2, 3, 4)\n",
    "product(5, 6, 7, 8)\n",
    "product(1, 2, 3, 4, 5, 6)"
   ]
  },
  {
   "cell_type": "code",
   "execution_count": null,
   "id": "7deea7d1",
   "metadata": {},
   "outputs": [],
   "source": [
    "#4.14\n",
    "import random\n",
    "\n",
    "def generate_question():\n",
    "    num1 = random.randint(1, 9)\n",
    "    num2 = random.randint(1, 9)\n",
    "    return num1, num2\n",
    "\n",
    "def ask_question():\n",
    "    while True:\n",
    "        num1, num2 = generate_question()\n",
    "        correct_answer = num1 * num2\n",
    "        while True:\n",
    "            user_answer = int(input(f\"How much is {num1} times {num2}? \"))\n",
    "\n",
    "            if user_answer == correct_answer:\n",
    "                print(\"Very good!\")\n",
    "                break\n",
    "            else:\n",
    "                print(\"No. Please try again.\")\n",
    "\n",
    "if __name__ == \"__main__\":\n",
    "    print(\"Welcome to the Multiplication Quiz!\")\n",
    "    ask_question()"
   ]
  },
  {
   "cell_type": "code",
   "execution_count": null,
   "id": "c438f7e7",
   "metadata": {},
   "outputs": [],
   "source": [
    "#4.15\n",
    "import random\n",
    "\n",
    "def generate_question():\n",
    "    num1 = random.randint(1, 9)\n",
    "    num2 = random.randint(1, 9)\n",
    "    return num1, num2\n",
    "\n",
    "def get_response(correct):\n",
    "    responses = {\n",
    "        'correct': ['Very good!', 'Nice work!', 'Keep up the good work!'],\n",
    "        'incorrect': ['No. Please try again.', 'Wrong. Try once more.', 'No. Keep trying.']\n",
    "    }\n",
    "    return random.choice(responses['correct' if correct else 'incorrect'])\n",
    "\n",
    "def ask_question():\n",
    "    while True:\n",
    "        num1, num2 = generate_question()\n",
    "        correct_answer = num1 * num2\n",
    "        while True:\n",
    "            user_answer = int(input(f\"How much is {num1} times {num2}? \"))\n",
    "            is_correct = user_answer == correct_answer\n",
    "            print(get_response(is_correct))\n",
    "            if is_correct:\n",
    "                break\n",
    "\n",
    "if __name__ == \"__main__\":\n",
    "    print(\"Welcome to the Multiplication Quiz!\")\n",
    "    ask_question()"
   ]
  },
  {
   "cell_type": "code",
   "execution_count": null,
   "id": "5be3511a",
   "metadata": {},
   "outputs": [],
   "source": [
    "#4.16\n",
    "import random\n",
    "\n",
    "def generate_question(difficulty_level):\n",
    "    if difficulty_level == 1:\n",
    "        num1 = random.randint(1, 9)\n",
    "        num2 = random.randint(1, 9)\n",
    "    elif difficulty_level == 2:\n",
    "        num1 = random.randint(10, 99)\n",
    "        num2 = random.randint(10, 99)\n",
    "    else:\n",
    "        raise ValueError(\"Invalid difficulty level. Use 1 or 2.\")\n",
    "\n",
    "    return num1, num2\n",
    "\n",
    "def get_response(correct):\n",
    "    responses = {\n",
    "        'correct': ['Very good!', 'Nice work!', 'Keep up the good work!'],\n",
    "        'incorrect': ['No. Please try again.', 'Wrong. Try once more.', 'No. Keep trying.']\n",
    "    }\n",
    "    return random.choice(responses['correct' if correct else 'incorrect'])\n",
    "\n",
    "def ask_question():\n",
    "    while True:\n",
    "        difficulty_level = int(input(\"Enter the difficulty level (1 or 2): \"))\n",
    "        if difficulty_level not in [1, 2]:\n",
    "            print(\"Invalid difficulty level. Use 1 or 2.\")\n",
    "            continue\n",
    "        \n",
    "        num1, num2 = generate_question(difficulty_level)\n",
    "        correct_answer = num1 * num2\n",
    "        while True:\n",
    "            user_answer = int(input(f\"How much is {num1} times {num2}? \"))\n",
    "            is_correct = user_answer == correct_answer\n",
    "            print(get_response(is_correct))\n",
    "            if is_correct:\n",
    "                break\n",
    "\n",
    "if __name__ == \"__main__\":\n",
    "    print(\"Welcome to the Multiplication Quiz!\")\n",
    "    ask_question()"
   ]
  },
  {
   "cell_type": "code",
   "execution_count": null,
   "id": "6ce45b62",
   "metadata": {},
   "outputs": [],
   "source": [
    "#4.17\n",
    "import random\n",
    "\n",
    "def generate_question(difficulty_level, problem_type):\n",
    "    if problem_type == 1:  # Addition\n",
    "        num1 = random.randint(1, 9 if difficulty_level == 1 else 99)\n",
    "        num2 = random.randint(1, 9 if difficulty_level == 1 else 99)\n",
    "        operator = '+'\n",
    "    elif problem_type == 2:  # Subtraction\n",
    "        num1 = random.randint(1, 9 if difficulty_level == 1 else 99)\n",
    "        num2 = random.randint(1, 9 if difficulty_level == 1 else 99)\n",
    "        num1, num2 = max(num1, num2), min(num1, num2)\n",
    "        operator = '-'\n",
    "    elif problem_type == 3:  # Multiplication\n",
    "        num1 = random.randint(1, 9 if difficulty_level == 1 else 99)\n",
    "        num2 = random.randint(1, 9 if difficulty_level == 1 else 99)\n",
    "        operator = 'x'\n",
    "    elif problem_type == 4:  # Division\n",
    "        num2 = random.randint(1, 9 if difficulty_level == 1 else 99)\n",
    "        num1 = num2 * random.randint(1, 9 if difficulty_level == 1 else 99)\n",
    "        operator = '/'\n",
    "    elif problem_type == 5:  # Random mixture\n",
    "        sub_problem_type = random.randint(1, 4)\n",
    "        return generate_question(difficulty_level, sub_problem_type)\n",
    "\n",
    "    return num1, operator, num2\n",
    "\n",
    "def get_response(correct):\n",
    "    responses = {\n",
    "        'correct': ['Very good!', 'Nice work!', 'Keep up the good work!'],\n",
    "        'incorrect': ['No. Please try again.', 'Wrong. Try once more.', 'No. Keep trying.']\n",
    "    }\n",
    "    return random.choice(responses['correct' if correct else 'incorrect'])\n",
    "\n",
    "def ask_question():\n",
    "    while True:\n",
    "        difficulty_level = int(input(\"Enter the difficulty level (1 or 2): \"))\n",
    "        if difficulty_level not in [1, 2]:\n",
    "            print(\"Invalid difficulty level. Use 1 or 2.\")\n",
    "            continue\n",
    "\n",
    "        problem_type = int(input(\"Choose a type of arithmetic problem (1: Addition, 2: Subtraction, 3: Multiplication, 4: Division, 5: Random mixture): \"))\n",
    "        if problem_type not in [1, 2, 3, 4, 5]:\n",
    "            print(\"Invalid problem type. Use 1, 2, 3, 4, or 5.\")\n",
    "            continue\n",
    "        \n",
    "        num1, operator, num2 = generate_question(difficulty_level, problem_type)\n",
    "        correct_answer = eval(f\"{num1} {operator} {num2}\")\n",
    "        while True:\n",
    "            user_answer = float(input(f\"How much is {num1} {operator} {num2}? \"))\n",
    "            is_correct = user_answer == correct_answer\n",
    "            print(get_response(is_correct))\n",
    "            if is_correct:\n",
    "                break\n",
    "\n",
    "if __name__ == \"__main__\":\n",
    "    print(\"Welcome to the Arithmetic Quiz!\")\n",
    "    ask_question()"
   ]
  }
 ],
 "metadata": {
  "kernelspec": {
   "display_name": "Python 3 (ipykernel)",
   "language": "python",
   "name": "python3"
  },
  "language_info": {
   "codemirror_mode": {
    "name": "ipython",
    "version": 3
   },
   "file_extension": ".py",
   "mimetype": "text/x-python",
   "name": "python",
   "nbconvert_exporter": "python",
   "pygments_lexer": "ipython3",
   "version": "3.12.0"
  }
 },
 "nbformat": 4,
 "nbformat_minor": 5
}
